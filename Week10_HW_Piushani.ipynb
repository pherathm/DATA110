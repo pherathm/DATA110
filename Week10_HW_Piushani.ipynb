{
  "nbformat": 4,
  "nbformat_minor": 0,
  "metadata": {
    "colab": {
      "provenance": [],
      "authorship_tag": "ABX9TyNogMKXkWPRqqz4nTPj//qA",
      "include_colab_link": true
    },
    "kernelspec": {
      "name": "python3",
      "display_name": "Python 3"
    },
    "language_info": {
      "name": "python"
    }
  },
  "cells": [
    {
      "cell_type": "markdown",
      "metadata": {
        "id": "view-in-github",
        "colab_type": "text"
      },
      "source": [
        "<a href=\"https://colab.research.google.com/github/pherathm/DATA110/blob/main/Week10_HW_Piushani.ipynb\" target=\"_parent\"><img src=\"https://colab.research.google.com/assets/colab-badge.svg\" alt=\"Open In Colab\"/></a>"
      ]
    },
    {
      "cell_type": "code",
      "execution_count": 3,
      "metadata": {
        "id": "0vWABiyhTu-W"
      },
      "outputs": [],
      "source": [
        "import matplotlib.pyplot as plt\n",
        "import numpy as np\n",
        "import pandas as pd\n",
        "import seaborn as sns\n"
      ]
    },
    {
      "cell_type": "code",
      "source": [
        "df=pd.read_csv('https://raw.githubusercontent.com/Reben80/Data110-22016/refs/heads/main/dataset/Daily_Arrests_20241001%20(1).csv')\n",
        "df.head()"
      ],
      "metadata": {
        "colab": {
          "base_uri": "https://localhost:8080/",
          "height": 206
        },
        "id": "kRlyjMPo6z9n",
        "outputId": "7abb05dd-4f67-40ed-8b63-1fbefd6195ac"
      },
      "execution_count": 4,
      "outputs": [
        {
          "output_type": "execute_result",
          "data": {
            "text/plain": [
              "            LAST NAME FIRST NAME MIDDLE NAME  AGE  \\\n",
              "0  ENCARNAION HERASME       LUIS         NaN   24   \n",
              "1    DEL CID-PALACIOS    JEFFREY    MITCHELL   34   \n",
              "2              CHAVEZ     SANDRA         NaN   21   \n",
              "3      PEREZ GONZALES       JOSE         NaN   37   \n",
              "4               SIMON      DAVID       BRETT   74   \n",
              "\n",
              "                           STREET           CITY STATE ARREST DATE  \\\n",
              "0           Block Of 6841 TREXLEY        ASHFORK    MD  09/19/2024   \n",
              "1         11700 Block Of Leona St  SILVER SPRING    MD  09/19/2024   \n",
              "2  0 Block Of Silver Kettle Court   GAITHERSBURG    MD  09/19/2024   \n",
              "3   12900 Block Of TWINBROOK PKWY      ROCKVILLE    MD  09/19/2024   \n",
              "4   12800 Block Of BRUSHWOOD TERR        Potomac    MD  09/19/2024   \n",
              "\n",
              "                             OFFENSE  \n",
              "0           VIOLATE PROTECTIVE ORDER  \n",
              "1  INTIMIDATE/INFLU JUROR-FELONY OFF  \n",
              "2              ASSAULT-SECOND DEGREE  \n",
              "3        THEFT: $100 TO UNDER $1,500  \n",
              "4          DRIVING UNINSURED VEHICLE  "
            ],
            "text/html": [
              "\n",
              "  <div id=\"df-aea089da-3bfc-408e-a304-509a65791a8f\" class=\"colab-df-container\">\n",
              "    <div>\n",
              "<style scoped>\n",
              "    .dataframe tbody tr th:only-of-type {\n",
              "        vertical-align: middle;\n",
              "    }\n",
              "\n",
              "    .dataframe tbody tr th {\n",
              "        vertical-align: top;\n",
              "    }\n",
              "\n",
              "    .dataframe thead th {\n",
              "        text-align: right;\n",
              "    }\n",
              "</style>\n",
              "<table border=\"1\" class=\"dataframe\">\n",
              "  <thead>\n",
              "    <tr style=\"text-align: right;\">\n",
              "      <th></th>\n",
              "      <th>LAST NAME</th>\n",
              "      <th>FIRST NAME</th>\n",
              "      <th>MIDDLE NAME</th>\n",
              "      <th>AGE</th>\n",
              "      <th>STREET</th>\n",
              "      <th>CITY</th>\n",
              "      <th>STATE</th>\n",
              "      <th>ARREST DATE</th>\n",
              "      <th>OFFENSE</th>\n",
              "    </tr>\n",
              "  </thead>\n",
              "  <tbody>\n",
              "    <tr>\n",
              "      <th>0</th>\n",
              "      <td>ENCARNAION HERASME</td>\n",
              "      <td>LUIS</td>\n",
              "      <td>NaN</td>\n",
              "      <td>24</td>\n",
              "      <td>Block Of 6841 TREXLEY</td>\n",
              "      <td>ASHFORK</td>\n",
              "      <td>MD</td>\n",
              "      <td>09/19/2024</td>\n",
              "      <td>VIOLATE PROTECTIVE ORDER</td>\n",
              "    </tr>\n",
              "    <tr>\n",
              "      <th>1</th>\n",
              "      <td>DEL CID-PALACIOS</td>\n",
              "      <td>JEFFREY</td>\n",
              "      <td>MITCHELL</td>\n",
              "      <td>34</td>\n",
              "      <td>11700 Block Of Leona St</td>\n",
              "      <td>SILVER SPRING</td>\n",
              "      <td>MD</td>\n",
              "      <td>09/19/2024</td>\n",
              "      <td>INTIMIDATE/INFLU JUROR-FELONY OFF</td>\n",
              "    </tr>\n",
              "    <tr>\n",
              "      <th>2</th>\n",
              "      <td>CHAVEZ</td>\n",
              "      <td>SANDRA</td>\n",
              "      <td>NaN</td>\n",
              "      <td>21</td>\n",
              "      <td>0 Block Of Silver Kettle Court</td>\n",
              "      <td>GAITHERSBURG</td>\n",
              "      <td>MD</td>\n",
              "      <td>09/19/2024</td>\n",
              "      <td>ASSAULT-SECOND DEGREE</td>\n",
              "    </tr>\n",
              "    <tr>\n",
              "      <th>3</th>\n",
              "      <td>PEREZ GONZALES</td>\n",
              "      <td>JOSE</td>\n",
              "      <td>NaN</td>\n",
              "      <td>37</td>\n",
              "      <td>12900 Block Of TWINBROOK PKWY</td>\n",
              "      <td>ROCKVILLE</td>\n",
              "      <td>MD</td>\n",
              "      <td>09/19/2024</td>\n",
              "      <td>THEFT: $100 TO UNDER $1,500</td>\n",
              "    </tr>\n",
              "    <tr>\n",
              "      <th>4</th>\n",
              "      <td>SIMON</td>\n",
              "      <td>DAVID</td>\n",
              "      <td>BRETT</td>\n",
              "      <td>74</td>\n",
              "      <td>12800 Block Of BRUSHWOOD TERR</td>\n",
              "      <td>Potomac</td>\n",
              "      <td>MD</td>\n",
              "      <td>09/19/2024</td>\n",
              "      <td>DRIVING UNINSURED VEHICLE</td>\n",
              "    </tr>\n",
              "  </tbody>\n",
              "</table>\n",
              "</div>\n",
              "    <div class=\"colab-df-buttons\">\n",
              "\n",
              "  <div class=\"colab-df-container\">\n",
              "    <button class=\"colab-df-convert\" onclick=\"convertToInteractive('df-aea089da-3bfc-408e-a304-509a65791a8f')\"\n",
              "            title=\"Convert this dataframe to an interactive table.\"\n",
              "            style=\"display:none;\">\n",
              "\n",
              "  <svg xmlns=\"http://www.w3.org/2000/svg\" height=\"24px\" viewBox=\"0 -960 960 960\">\n",
              "    <path d=\"M120-120v-720h720v720H120Zm60-500h600v-160H180v160Zm220 220h160v-160H400v160Zm0 220h160v-160H400v160ZM180-400h160v-160H180v160Zm440 0h160v-160H620v160ZM180-180h160v-160H180v160Zm440 0h160v-160H620v160Z\"/>\n",
              "  </svg>\n",
              "    </button>\n",
              "\n",
              "  <style>\n",
              "    .colab-df-container {\n",
              "      display:flex;\n",
              "      gap: 12px;\n",
              "    }\n",
              "\n",
              "    .colab-df-convert {\n",
              "      background-color: #E8F0FE;\n",
              "      border: none;\n",
              "      border-radius: 50%;\n",
              "      cursor: pointer;\n",
              "      display: none;\n",
              "      fill: #1967D2;\n",
              "      height: 32px;\n",
              "      padding: 0 0 0 0;\n",
              "      width: 32px;\n",
              "    }\n",
              "\n",
              "    .colab-df-convert:hover {\n",
              "      background-color: #E2EBFA;\n",
              "      box-shadow: 0px 1px 2px rgba(60, 64, 67, 0.3), 0px 1px 3px 1px rgba(60, 64, 67, 0.15);\n",
              "      fill: #174EA6;\n",
              "    }\n",
              "\n",
              "    .colab-df-buttons div {\n",
              "      margin-bottom: 4px;\n",
              "    }\n",
              "\n",
              "    [theme=dark] .colab-df-convert {\n",
              "      background-color: #3B4455;\n",
              "      fill: #D2E3FC;\n",
              "    }\n",
              "\n",
              "    [theme=dark] .colab-df-convert:hover {\n",
              "      background-color: #434B5C;\n",
              "      box-shadow: 0px 1px 3px 1px rgba(0, 0, 0, 0.15);\n",
              "      filter: drop-shadow(0px 1px 2px rgba(0, 0, 0, 0.3));\n",
              "      fill: #FFFFFF;\n",
              "    }\n",
              "  </style>\n",
              "\n",
              "    <script>\n",
              "      const buttonEl =\n",
              "        document.querySelector('#df-aea089da-3bfc-408e-a304-509a65791a8f button.colab-df-convert');\n",
              "      buttonEl.style.display =\n",
              "        google.colab.kernel.accessAllowed ? 'block' : 'none';\n",
              "\n",
              "      async function convertToInteractive(key) {\n",
              "        const element = document.querySelector('#df-aea089da-3bfc-408e-a304-509a65791a8f');\n",
              "        const dataTable =\n",
              "          await google.colab.kernel.invokeFunction('convertToInteractive',\n",
              "                                                    [key], {});\n",
              "        if (!dataTable) return;\n",
              "\n",
              "        const docLinkHtml = 'Like what you see? Visit the ' +\n",
              "          '<a target=\"_blank\" href=https://colab.research.google.com/notebooks/data_table.ipynb>data table notebook</a>'\n",
              "          + ' to learn more about interactive tables.';\n",
              "        element.innerHTML = '';\n",
              "        dataTable['output_type'] = 'display_data';\n",
              "        await google.colab.output.renderOutput(dataTable, element);\n",
              "        const docLink = document.createElement('div');\n",
              "        docLink.innerHTML = docLinkHtml;\n",
              "        element.appendChild(docLink);\n",
              "      }\n",
              "    </script>\n",
              "  </div>\n",
              "\n",
              "\n",
              "<div id=\"df-f9a63492-e399-466d-b070-7afdcdad18a3\">\n",
              "  <button class=\"colab-df-quickchart\" onclick=\"quickchart('df-f9a63492-e399-466d-b070-7afdcdad18a3')\"\n",
              "            title=\"Suggest charts\"\n",
              "            style=\"display:none;\">\n",
              "\n",
              "<svg xmlns=\"http://www.w3.org/2000/svg\" height=\"24px\"viewBox=\"0 0 24 24\"\n",
              "     width=\"24px\">\n",
              "    <g>\n",
              "        <path d=\"M19 3H5c-1.1 0-2 .9-2 2v14c0 1.1.9 2 2 2h14c1.1 0 2-.9 2-2V5c0-1.1-.9-2-2-2zM9 17H7v-7h2v7zm4 0h-2V7h2v10zm4 0h-2v-4h2v4z\"/>\n",
              "    </g>\n",
              "</svg>\n",
              "  </button>\n",
              "\n",
              "<style>\n",
              "  .colab-df-quickchart {\n",
              "      --bg-color: #E8F0FE;\n",
              "      --fill-color: #1967D2;\n",
              "      --hover-bg-color: #E2EBFA;\n",
              "      --hover-fill-color: #174EA6;\n",
              "      --disabled-fill-color: #AAA;\n",
              "      --disabled-bg-color: #DDD;\n",
              "  }\n",
              "\n",
              "  [theme=dark] .colab-df-quickchart {\n",
              "      --bg-color: #3B4455;\n",
              "      --fill-color: #D2E3FC;\n",
              "      --hover-bg-color: #434B5C;\n",
              "      --hover-fill-color: #FFFFFF;\n",
              "      --disabled-bg-color: #3B4455;\n",
              "      --disabled-fill-color: #666;\n",
              "  }\n",
              "\n",
              "  .colab-df-quickchart {\n",
              "    background-color: var(--bg-color);\n",
              "    border: none;\n",
              "    border-radius: 50%;\n",
              "    cursor: pointer;\n",
              "    display: none;\n",
              "    fill: var(--fill-color);\n",
              "    height: 32px;\n",
              "    padding: 0;\n",
              "    width: 32px;\n",
              "  }\n",
              "\n",
              "  .colab-df-quickchart:hover {\n",
              "    background-color: var(--hover-bg-color);\n",
              "    box-shadow: 0 1px 2px rgba(60, 64, 67, 0.3), 0 1px 3px 1px rgba(60, 64, 67, 0.15);\n",
              "    fill: var(--button-hover-fill-color);\n",
              "  }\n",
              "\n",
              "  .colab-df-quickchart-complete:disabled,\n",
              "  .colab-df-quickchart-complete:disabled:hover {\n",
              "    background-color: var(--disabled-bg-color);\n",
              "    fill: var(--disabled-fill-color);\n",
              "    box-shadow: none;\n",
              "  }\n",
              "\n",
              "  .colab-df-spinner {\n",
              "    border: 2px solid var(--fill-color);\n",
              "    border-color: transparent;\n",
              "    border-bottom-color: var(--fill-color);\n",
              "    animation:\n",
              "      spin 1s steps(1) infinite;\n",
              "  }\n",
              "\n",
              "  @keyframes spin {\n",
              "    0% {\n",
              "      border-color: transparent;\n",
              "      border-bottom-color: var(--fill-color);\n",
              "      border-left-color: var(--fill-color);\n",
              "    }\n",
              "    20% {\n",
              "      border-color: transparent;\n",
              "      border-left-color: var(--fill-color);\n",
              "      border-top-color: var(--fill-color);\n",
              "    }\n",
              "    30% {\n",
              "      border-color: transparent;\n",
              "      border-left-color: var(--fill-color);\n",
              "      border-top-color: var(--fill-color);\n",
              "      border-right-color: var(--fill-color);\n",
              "    }\n",
              "    40% {\n",
              "      border-color: transparent;\n",
              "      border-right-color: var(--fill-color);\n",
              "      border-top-color: var(--fill-color);\n",
              "    }\n",
              "    60% {\n",
              "      border-color: transparent;\n",
              "      border-right-color: var(--fill-color);\n",
              "    }\n",
              "    80% {\n",
              "      border-color: transparent;\n",
              "      border-right-color: var(--fill-color);\n",
              "      border-bottom-color: var(--fill-color);\n",
              "    }\n",
              "    90% {\n",
              "      border-color: transparent;\n",
              "      border-bottom-color: var(--fill-color);\n",
              "    }\n",
              "  }\n",
              "</style>\n",
              "\n",
              "  <script>\n",
              "    async function quickchart(key) {\n",
              "      const quickchartButtonEl =\n",
              "        document.querySelector('#' + key + ' button');\n",
              "      quickchartButtonEl.disabled = true;  // To prevent multiple clicks.\n",
              "      quickchartButtonEl.classList.add('colab-df-spinner');\n",
              "      try {\n",
              "        const charts = await google.colab.kernel.invokeFunction(\n",
              "            'suggestCharts', [key], {});\n",
              "      } catch (error) {\n",
              "        console.error('Error during call to suggestCharts:', error);\n",
              "      }\n",
              "      quickchartButtonEl.classList.remove('colab-df-spinner');\n",
              "      quickchartButtonEl.classList.add('colab-df-quickchart-complete');\n",
              "    }\n",
              "    (() => {\n",
              "      let quickchartButtonEl =\n",
              "        document.querySelector('#df-f9a63492-e399-466d-b070-7afdcdad18a3 button');\n",
              "      quickchartButtonEl.style.display =\n",
              "        google.colab.kernel.accessAllowed ? 'block' : 'none';\n",
              "    })();\n",
              "  </script>\n",
              "</div>\n",
              "\n",
              "    </div>\n",
              "  </div>\n"
            ],
            "application/vnd.google.colaboratory.intrinsic+json": {
              "type": "dataframe",
              "variable_name": "df",
              "summary": "{\n  \"name\": \"df\",\n  \"rows\": 473,\n  \"fields\": [\n    {\n      \"column\": \"LAST NAME\",\n      \"properties\": {\n        \"dtype\": \"string\",\n        \"num_unique_values\": 406,\n        \"samples\": [\n          \"LOPEZ SARAVIA\",\n          \"GREGORIO-FELIPE\",\n          \"AKA\"\n        ],\n        \"semantic_type\": \"\",\n        \"description\": \"\"\n      }\n    },\n    {\n      \"column\": \"FIRST NAME\",\n      \"properties\": {\n        \"dtype\": \"string\",\n        \"num_unique_values\": 345,\n        \"samples\": [\n          \"DWAYNE\",\n          \"ALVARO\",\n          \"XAVIER\"\n        ],\n        \"semantic_type\": \"\",\n        \"description\": \"\"\n      }\n    },\n    {\n      \"column\": \"MIDDLE NAME\",\n      \"properties\": {\n        \"dtype\": \"string\",\n        \"num_unique_values\": 284,\n        \"samples\": [\n          \"LUIS\",\n          \"CHRISTIAN\",\n          \"IAVAINA\"\n        ],\n        \"semantic_type\": \"\",\n        \"description\": \"\"\n      }\n    },\n    {\n      \"column\": \"AGE\",\n      \"properties\": {\n        \"dtype\": \"number\",\n        \"std\": 12,\n        \"min\": 16,\n        \"max\": 86,\n        \"num_unique_values\": 55,\n        \"samples\": [\n          25,\n          18,\n          52\n        ],\n        \"semantic_type\": \"\",\n        \"description\": \"\"\n      }\n    },\n    {\n      \"column\": \"STREET\",\n      \"properties\": {\n        \"dtype\": \"string\",\n        \"num_unique_values\": 386,\n        \"samples\": [\n          \"400 Block Of n summit ave\",\n          \"12300 Block Of veirs mill rd\",\n          \"0 Block Of NORTH CONCOCAGUE ST.\"\n        ],\n        \"semantic_type\": \"\",\n        \"description\": \"\"\n      }\n    },\n    {\n      \"column\": \"CITY\",\n      \"properties\": {\n        \"dtype\": \"category\",\n        \"num_unique_values\": 64,\n        \"samples\": [\n          \"LOS ANGELES\",\n          \"FALLS CHURCH\",\n          \"ASHFORK\"\n        ],\n        \"semantic_type\": \"\",\n        \"description\": \"\"\n      }\n    },\n    {\n      \"column\": \"STATE\",\n      \"properties\": {\n        \"dtype\": \"category\",\n        \"num_unique_values\": 8,\n        \"samples\": [\n          \"DC\",\n          \"WA\",\n          \"MD\"\n        ],\n        \"semantic_type\": \"\",\n        \"description\": \"\"\n      }\n    },\n    {\n      \"column\": \"ARREST DATE\",\n      \"properties\": {\n        \"dtype\": \"object\",\n        \"num_unique_values\": 30,\n        \"samples\": [\n          \"09/11/2024\",\n          \"09/15/2024\",\n          \"09/01/2024\"\n        ],\n        \"semantic_type\": \"\",\n        \"description\": \"\"\n      }\n    },\n    {\n      \"column\": \"OFFENSE\",\n      \"properties\": {\n        \"dtype\": \"category\",\n        \"num_unique_values\": 101,\n        \"samples\": [\n          \"DISTURB THE PEACE/DISORDERLY\",\n          \"FAIL APPEAR-CITATION\",\n          \"FAILURE TO PAY APPLICABLE FARE\"\n        ],\n        \"semantic_type\": \"\",\n        \"description\": \"\"\n      }\n    }\n  ]\n}"
            }
          },
          "metadata": {},
          "execution_count": 4
        }
      ]
    },
    {
      "cell_type": "markdown",
      "source": [
        "1. **Filter Theft-Related Offenses**"
      ],
      "metadata": {
        "id": "dPOCjfwx6g9N"
      }
    },
    {
      "cell_type": "code",
      "source": [
        "# Filter rows where 'OFFENSE' contains 'theft' (case-insensitive)\n",
        "theft_df = df[df['OFFENSE'].str.contains(\"theft\", case=False, na=False)]\n",
        "\n",
        "theft_df.head()"
      ],
      "metadata": {
        "colab": {
          "base_uri": "https://localhost:8080/",
          "height": 206
        },
        "id": "HvZny8s46j38",
        "outputId": "66c76fff-4028-4fe4-aa52-bbd0fcee6e93"
      },
      "execution_count": 5,
      "outputs": [
        {
          "output_type": "execute_result",
          "data": {
            "text/plain": [
              "         LAST NAME FIRST NAME MIDDLE NAME  AGE                         STREET  \\\n",
              "3   PEREZ GONZALES       JOSE         NaN   37  12900 Block Of TWINBROOK PKWY   \n",
              "13           CLARK    MICHAEL     ALANZOE   40     1300 Block Of new york ave   \n",
              "14    MEJIA POSADA       RENE   ALEXANDER   26             0 Block Of NINA CT   \n",
              "22         ESCOBAR   DEYANIRA     HILARIA   35      400 Block Of COLLEGE PKWY   \n",
              "30            WEST       MAIA   FRANCESCA   28      9900 Block Of BIG ROCK RD   \n",
              "\n",
              "             CITY STATE ARREST DATE                         OFFENSE  \n",
              "3       ROCKVILLE    MD  09/19/2024     THEFT: $100 TO UNDER $1,500  \n",
              "13     WASHINGTON    DC  09/20/2024     THEFT: $100 TO UNDER $1,500  \n",
              "14   GAITHERSBURG    MD  09/19/2024     THEFT: $100 TO UNDER $1,500  \n",
              "22      ROCKVILLE    MD  09/20/2024     THEFT: $100 TO UNDER $1,500  \n",
              "30  SILVER SPRING    MD  09/21/2024  THEFT: $1,500 TO UNDER $25,000  "
            ],
            "text/html": [
              "\n",
              "  <div id=\"df-db0d5427-b2d3-4c61-89e1-762518982613\" class=\"colab-df-container\">\n",
              "    <div>\n",
              "<style scoped>\n",
              "    .dataframe tbody tr th:only-of-type {\n",
              "        vertical-align: middle;\n",
              "    }\n",
              "\n",
              "    .dataframe tbody tr th {\n",
              "        vertical-align: top;\n",
              "    }\n",
              "\n",
              "    .dataframe thead th {\n",
              "        text-align: right;\n",
              "    }\n",
              "</style>\n",
              "<table border=\"1\" class=\"dataframe\">\n",
              "  <thead>\n",
              "    <tr style=\"text-align: right;\">\n",
              "      <th></th>\n",
              "      <th>LAST NAME</th>\n",
              "      <th>FIRST NAME</th>\n",
              "      <th>MIDDLE NAME</th>\n",
              "      <th>AGE</th>\n",
              "      <th>STREET</th>\n",
              "      <th>CITY</th>\n",
              "      <th>STATE</th>\n",
              "      <th>ARREST DATE</th>\n",
              "      <th>OFFENSE</th>\n",
              "    </tr>\n",
              "  </thead>\n",
              "  <tbody>\n",
              "    <tr>\n",
              "      <th>3</th>\n",
              "      <td>PEREZ GONZALES</td>\n",
              "      <td>JOSE</td>\n",
              "      <td>NaN</td>\n",
              "      <td>37</td>\n",
              "      <td>12900 Block Of TWINBROOK PKWY</td>\n",
              "      <td>ROCKVILLE</td>\n",
              "      <td>MD</td>\n",
              "      <td>09/19/2024</td>\n",
              "      <td>THEFT: $100 TO UNDER $1,500</td>\n",
              "    </tr>\n",
              "    <tr>\n",
              "      <th>13</th>\n",
              "      <td>CLARK</td>\n",
              "      <td>MICHAEL</td>\n",
              "      <td>ALANZOE</td>\n",
              "      <td>40</td>\n",
              "      <td>1300 Block Of new york ave</td>\n",
              "      <td>WASHINGTON</td>\n",
              "      <td>DC</td>\n",
              "      <td>09/20/2024</td>\n",
              "      <td>THEFT: $100 TO UNDER $1,500</td>\n",
              "    </tr>\n",
              "    <tr>\n",
              "      <th>14</th>\n",
              "      <td>MEJIA POSADA</td>\n",
              "      <td>RENE</td>\n",
              "      <td>ALEXANDER</td>\n",
              "      <td>26</td>\n",
              "      <td>0 Block Of NINA CT</td>\n",
              "      <td>GAITHERSBURG</td>\n",
              "      <td>MD</td>\n",
              "      <td>09/19/2024</td>\n",
              "      <td>THEFT: $100 TO UNDER $1,500</td>\n",
              "    </tr>\n",
              "    <tr>\n",
              "      <th>22</th>\n",
              "      <td>ESCOBAR</td>\n",
              "      <td>DEYANIRA</td>\n",
              "      <td>HILARIA</td>\n",
              "      <td>35</td>\n",
              "      <td>400 Block Of COLLEGE PKWY</td>\n",
              "      <td>ROCKVILLE</td>\n",
              "      <td>MD</td>\n",
              "      <td>09/20/2024</td>\n",
              "      <td>THEFT: $100 TO UNDER $1,500</td>\n",
              "    </tr>\n",
              "    <tr>\n",
              "      <th>30</th>\n",
              "      <td>WEST</td>\n",
              "      <td>MAIA</td>\n",
              "      <td>FRANCESCA</td>\n",
              "      <td>28</td>\n",
              "      <td>9900 Block Of BIG ROCK RD</td>\n",
              "      <td>SILVER SPRING</td>\n",
              "      <td>MD</td>\n",
              "      <td>09/21/2024</td>\n",
              "      <td>THEFT: $1,500 TO UNDER $25,000</td>\n",
              "    </tr>\n",
              "  </tbody>\n",
              "</table>\n",
              "</div>\n",
              "    <div class=\"colab-df-buttons\">\n",
              "\n",
              "  <div class=\"colab-df-container\">\n",
              "    <button class=\"colab-df-convert\" onclick=\"convertToInteractive('df-db0d5427-b2d3-4c61-89e1-762518982613')\"\n",
              "            title=\"Convert this dataframe to an interactive table.\"\n",
              "            style=\"display:none;\">\n",
              "\n",
              "  <svg xmlns=\"http://www.w3.org/2000/svg\" height=\"24px\" viewBox=\"0 -960 960 960\">\n",
              "    <path d=\"M120-120v-720h720v720H120Zm60-500h600v-160H180v160Zm220 220h160v-160H400v160Zm0 220h160v-160H400v160ZM180-400h160v-160H180v160Zm440 0h160v-160H620v160ZM180-180h160v-160H180v160Zm440 0h160v-160H620v160Z\"/>\n",
              "  </svg>\n",
              "    </button>\n",
              "\n",
              "  <style>\n",
              "    .colab-df-container {\n",
              "      display:flex;\n",
              "      gap: 12px;\n",
              "    }\n",
              "\n",
              "    .colab-df-convert {\n",
              "      background-color: #E8F0FE;\n",
              "      border: none;\n",
              "      border-radius: 50%;\n",
              "      cursor: pointer;\n",
              "      display: none;\n",
              "      fill: #1967D2;\n",
              "      height: 32px;\n",
              "      padding: 0 0 0 0;\n",
              "      width: 32px;\n",
              "    }\n",
              "\n",
              "    .colab-df-convert:hover {\n",
              "      background-color: #E2EBFA;\n",
              "      box-shadow: 0px 1px 2px rgba(60, 64, 67, 0.3), 0px 1px 3px 1px rgba(60, 64, 67, 0.15);\n",
              "      fill: #174EA6;\n",
              "    }\n",
              "\n",
              "    .colab-df-buttons div {\n",
              "      margin-bottom: 4px;\n",
              "    }\n",
              "\n",
              "    [theme=dark] .colab-df-convert {\n",
              "      background-color: #3B4455;\n",
              "      fill: #D2E3FC;\n",
              "    }\n",
              "\n",
              "    [theme=dark] .colab-df-convert:hover {\n",
              "      background-color: #434B5C;\n",
              "      box-shadow: 0px 1px 3px 1px rgba(0, 0, 0, 0.15);\n",
              "      filter: drop-shadow(0px 1px 2px rgba(0, 0, 0, 0.3));\n",
              "      fill: #FFFFFF;\n",
              "    }\n",
              "  </style>\n",
              "\n",
              "    <script>\n",
              "      const buttonEl =\n",
              "        document.querySelector('#df-db0d5427-b2d3-4c61-89e1-762518982613 button.colab-df-convert');\n",
              "      buttonEl.style.display =\n",
              "        google.colab.kernel.accessAllowed ? 'block' : 'none';\n",
              "\n",
              "      async function convertToInteractive(key) {\n",
              "        const element = document.querySelector('#df-db0d5427-b2d3-4c61-89e1-762518982613');\n",
              "        const dataTable =\n",
              "          await google.colab.kernel.invokeFunction('convertToInteractive',\n",
              "                                                    [key], {});\n",
              "        if (!dataTable) return;\n",
              "\n",
              "        const docLinkHtml = 'Like what you see? Visit the ' +\n",
              "          '<a target=\"_blank\" href=https://colab.research.google.com/notebooks/data_table.ipynb>data table notebook</a>'\n",
              "          + ' to learn more about interactive tables.';\n",
              "        element.innerHTML = '';\n",
              "        dataTable['output_type'] = 'display_data';\n",
              "        await google.colab.output.renderOutput(dataTable, element);\n",
              "        const docLink = document.createElement('div');\n",
              "        docLink.innerHTML = docLinkHtml;\n",
              "        element.appendChild(docLink);\n",
              "      }\n",
              "    </script>\n",
              "  </div>\n",
              "\n",
              "\n",
              "<div id=\"df-5f958352-3736-4349-b0d6-3d35b53f235d\">\n",
              "  <button class=\"colab-df-quickchart\" onclick=\"quickchart('df-5f958352-3736-4349-b0d6-3d35b53f235d')\"\n",
              "            title=\"Suggest charts\"\n",
              "            style=\"display:none;\">\n",
              "\n",
              "<svg xmlns=\"http://www.w3.org/2000/svg\" height=\"24px\"viewBox=\"0 0 24 24\"\n",
              "     width=\"24px\">\n",
              "    <g>\n",
              "        <path d=\"M19 3H5c-1.1 0-2 .9-2 2v14c0 1.1.9 2 2 2h14c1.1 0 2-.9 2-2V5c0-1.1-.9-2-2-2zM9 17H7v-7h2v7zm4 0h-2V7h2v10zm4 0h-2v-4h2v4z\"/>\n",
              "    </g>\n",
              "</svg>\n",
              "  </button>\n",
              "\n",
              "<style>\n",
              "  .colab-df-quickchart {\n",
              "      --bg-color: #E8F0FE;\n",
              "      --fill-color: #1967D2;\n",
              "      --hover-bg-color: #E2EBFA;\n",
              "      --hover-fill-color: #174EA6;\n",
              "      --disabled-fill-color: #AAA;\n",
              "      --disabled-bg-color: #DDD;\n",
              "  }\n",
              "\n",
              "  [theme=dark] .colab-df-quickchart {\n",
              "      --bg-color: #3B4455;\n",
              "      --fill-color: #D2E3FC;\n",
              "      --hover-bg-color: #434B5C;\n",
              "      --hover-fill-color: #FFFFFF;\n",
              "      --disabled-bg-color: #3B4455;\n",
              "      --disabled-fill-color: #666;\n",
              "  }\n",
              "\n",
              "  .colab-df-quickchart {\n",
              "    background-color: var(--bg-color);\n",
              "    border: none;\n",
              "    border-radius: 50%;\n",
              "    cursor: pointer;\n",
              "    display: none;\n",
              "    fill: var(--fill-color);\n",
              "    height: 32px;\n",
              "    padding: 0;\n",
              "    width: 32px;\n",
              "  }\n",
              "\n",
              "  .colab-df-quickchart:hover {\n",
              "    background-color: var(--hover-bg-color);\n",
              "    box-shadow: 0 1px 2px rgba(60, 64, 67, 0.3), 0 1px 3px 1px rgba(60, 64, 67, 0.15);\n",
              "    fill: var(--button-hover-fill-color);\n",
              "  }\n",
              "\n",
              "  .colab-df-quickchart-complete:disabled,\n",
              "  .colab-df-quickchart-complete:disabled:hover {\n",
              "    background-color: var(--disabled-bg-color);\n",
              "    fill: var(--disabled-fill-color);\n",
              "    box-shadow: none;\n",
              "  }\n",
              "\n",
              "  .colab-df-spinner {\n",
              "    border: 2px solid var(--fill-color);\n",
              "    border-color: transparent;\n",
              "    border-bottom-color: var(--fill-color);\n",
              "    animation:\n",
              "      spin 1s steps(1) infinite;\n",
              "  }\n",
              "\n",
              "  @keyframes spin {\n",
              "    0% {\n",
              "      border-color: transparent;\n",
              "      border-bottom-color: var(--fill-color);\n",
              "      border-left-color: var(--fill-color);\n",
              "    }\n",
              "    20% {\n",
              "      border-color: transparent;\n",
              "      border-left-color: var(--fill-color);\n",
              "      border-top-color: var(--fill-color);\n",
              "    }\n",
              "    30% {\n",
              "      border-color: transparent;\n",
              "      border-left-color: var(--fill-color);\n",
              "      border-top-color: var(--fill-color);\n",
              "      border-right-color: var(--fill-color);\n",
              "    }\n",
              "    40% {\n",
              "      border-color: transparent;\n",
              "      border-right-color: var(--fill-color);\n",
              "      border-top-color: var(--fill-color);\n",
              "    }\n",
              "    60% {\n",
              "      border-color: transparent;\n",
              "      border-right-color: var(--fill-color);\n",
              "    }\n",
              "    80% {\n",
              "      border-color: transparent;\n",
              "      border-right-color: var(--fill-color);\n",
              "      border-bottom-color: var(--fill-color);\n",
              "    }\n",
              "    90% {\n",
              "      border-color: transparent;\n",
              "      border-bottom-color: var(--fill-color);\n",
              "    }\n",
              "  }\n",
              "</style>\n",
              "\n",
              "  <script>\n",
              "    async function quickchart(key) {\n",
              "      const quickchartButtonEl =\n",
              "        document.querySelector('#' + key + ' button');\n",
              "      quickchartButtonEl.disabled = true;  // To prevent multiple clicks.\n",
              "      quickchartButtonEl.classList.add('colab-df-spinner');\n",
              "      try {\n",
              "        const charts = await google.colab.kernel.invokeFunction(\n",
              "            'suggestCharts', [key], {});\n",
              "      } catch (error) {\n",
              "        console.error('Error during call to suggestCharts:', error);\n",
              "      }\n",
              "      quickchartButtonEl.classList.remove('colab-df-spinner');\n",
              "      quickchartButtonEl.classList.add('colab-df-quickchart-complete');\n",
              "    }\n",
              "    (() => {\n",
              "      let quickchartButtonEl =\n",
              "        document.querySelector('#df-5f958352-3736-4349-b0d6-3d35b53f235d button');\n",
              "      quickchartButtonEl.style.display =\n",
              "        google.colab.kernel.accessAllowed ? 'block' : 'none';\n",
              "    })();\n",
              "  </script>\n",
              "</div>\n",
              "\n",
              "    </div>\n",
              "  </div>\n"
            ],
            "application/vnd.google.colaboratory.intrinsic+json": {
              "type": "dataframe",
              "variable_name": "theft_df",
              "repr_error": "0"
            }
          },
          "metadata": {},
          "execution_count": 5
        }
      ]
    },
    {
      "cell_type": "markdown",
      "source": [
        " 2. **Exploratory Data Analysis (EDA)**"
      ],
      "metadata": {
        "id": "1nfK_4aiV7-r"
      }
    },
    {
      "cell_type": "markdown",
      "source": [
        "Total Number of Theft Incidents\n",
        "\n"
      ],
      "metadata": {
        "id": "V6KLisWVWI_m"
      }
    },
    {
      "cell_type": "code",
      "source": [
        "total_theft = len(df)\n",
        "print(total_theft)"
      ],
      "metadata": {
        "colab": {
          "base_uri": "https://localhost:8080/"
        },
        "id": "I4O5K6fBWO0F",
        "outputId": "ccf15873-c19e-4096-e5c2-6e0661c2cbdb"
      },
      "execution_count": 7,
      "outputs": [
        {
          "output_type": "stream",
          "name": "stdout",
          "text": [
            "473\n"
          ]
        }
      ]
    },
    {
      "cell_type": "markdown",
      "source": [
        "Total Number of Theft Incidents= 473"
      ],
      "metadata": {
        "id": "8Adsa4BZ9ptx"
      }
    },
    {
      "cell_type": "markdown",
      "source": [
        " Range of Ages"
      ],
      "metadata": {
        "id": "GMoqec1uWW_W"
      }
    },
    {
      "cell_type": "code",
      "source": [
        "age_min = df['AGE'].min()\n",
        "age_max = df['AGE'].max()\n",
        "print(f\"Age range: {age_min} to {age_max}\")"
      ],
      "metadata": {
        "colab": {
          "base_uri": "https://localhost:8080/"
        },
        "id": "cJ3jl2cTWZ2z",
        "outputId": "5938521e-f189-4872-f93d-8e64d5eda869"
      },
      "execution_count": 8,
      "outputs": [
        {
          "output_type": "stream",
          "name": "stdout",
          "text": [
            "Age range: 16 to 86\n"
          ]
        }
      ]
    },
    {
      "cell_type": "markdown",
      "source": [
        "3. **Visualizing Theft Offenses by Day of the Week**"
      ],
      "metadata": {
        "id": "BKjGsXHW9WIy"
      }
    },
    {
      "cell_type": "code",
      "source": [
        "# Convert date column to datetime and extract day of the week\n",
        "theft_df['ARREST DATE'] = pd.to_datetime(theft_df['ARREST DATE'])\n",
        "theft_df['Day_Of_Week'] = theft_df['ARREST DATE'].dt.day_name()\n",
        "\n",
        "# Count offenses by day of the week\n",
        "theft_by_day = theft_df['Day_Of_Week'].value_counts()\n",
        "\n",
        "# Plot\n",
        "theft_by_day.plot(kind='bar', color='skyblue', figsize=(8, 5))\n",
        "plt.title('Theft Offenses by Day of the Week')\n",
        "plt.xlabel('Day of the Week')\n",
        "plt.ylabel('Number of Incidents')\n",
        "plt.show()\n",
        "\n"
      ],
      "metadata": {
        "colab": {
          "base_uri": "https://localhost:8080/",
          "height": 762
        },
        "id": "OMdZ0GWj921i",
        "outputId": "c0ca53b0-2a99-43e4-8f1f-c4f6affa43b1"
      },
      "execution_count": 9,
      "outputs": [
        {
          "output_type": "stream",
          "name": "stderr",
          "text": [
            "<ipython-input-9-a71677aa04a1>:2: SettingWithCopyWarning: \n",
            "A value is trying to be set on a copy of a slice from a DataFrame.\n",
            "Try using .loc[row_indexer,col_indexer] = value instead\n",
            "\n",
            "See the caveats in the documentation: https://pandas.pydata.org/pandas-docs/stable/user_guide/indexing.html#returning-a-view-versus-a-copy\n",
            "  theft_df['ARREST DATE'] = pd.to_datetime(theft_df['ARREST DATE'])\n",
            "<ipython-input-9-a71677aa04a1>:3: SettingWithCopyWarning: \n",
            "A value is trying to be set on a copy of a slice from a DataFrame.\n",
            "Try using .loc[row_indexer,col_indexer] = value instead\n",
            "\n",
            "See the caveats in the documentation: https://pandas.pydata.org/pandas-docs/stable/user_guide/indexing.html#returning-a-view-versus-a-copy\n",
            "  theft_df['Day_Of_Week'] = theft_df['ARREST DATE'].dt.day_name()\n"
          ]
        },
        {
          "output_type": "display_data",
          "data": {
            "text/plain": [
              "<Figure size 800x500 with 1 Axes>"
            ],
            "image/png": "[encoded data removed]"
          },
          "metadata": {}
        }
      ]
    },
    {
      "cell_type": "markdown",
      "source": [
        "**Task**: Which day of the week has the highest number of theft arrests? What might be the reasons for this trend?\n",
        "\n",
        "Monday\n",
        "\n",
        "Reasons:\n",
        "\n",
        "1. Many thefts, like shoplifting or stealing during busy weekends, might only be reported or handled on Mondays\n",
        "2. Monday is when financial struggles, like needing money after weekend spending, can lead to thefts.\n",
        "3. Theft at offices or businesses is often noticed when people return to work on Monday.\n",
        "4. Police may handle more cases from the weekend on Mondays, increasing arrests that day.\n"
      ],
      "metadata": {
        "id": "QZ0pfRzoDlsS"
      }
    },
    {
      "cell_type": "markdown",
      "source": [
        "4. **Age Distribution of Theft Offenders**"
      ],
      "metadata": {
        "id": "f-dk-sscHNr0"
      }
    },
    {
      "cell_type": "code",
      "source": [
        "theft_df['AGE'].plot(kind='hist', bins=15, color='orange', figsize=(8, 5))\n",
        "plt.title('Age Distribution of Theft Offenders')\n",
        "plt.xlabel('Age')\n",
        "plt.ylabel('Frequency')\n",
        "plt.show()"
      ],
      "metadata": {
        "colab": {
          "base_uri": "https://localhost:8080/",
          "height": 487
        },
        "id": "y_j1Xup7HPPC",
        "outputId": "b2dfb746-206a-45a7-ed9d-ee61996e72e0"
      },
      "execution_count": 10,
      "outputs": [
        {
          "output_type": "display_data",
          "data": {
            "text/plain": [
              "<Figure size 800x500 with 1 Axes>"
            ],
            "image/png": "[encoded data removed]"
          },
          "metadata": {}
        }
      ]
    },
    {
      "cell_type": "code",
      "source": [
        "#Identify the most involved age group:\n",
        "age_mode = theft_df['AGE'].mode()[0]\n",
        "print(f\"The most involved age group: {age_mode}\")"
      ],
      "metadata": {
        "colab": {
          "base_uri": "https://localhost:8080/"
        },
        "id": "0UBv4Mr3Hp8M",
        "outputId": "e2b20561-6af5-404b-ddef-0d4cc40d17c5"
      },
      "execution_count": 11,
      "outputs": [
        {
          "output_type": "stream",
          "name": "stdout",
          "text": [
            "The most involved age group: 26\n"
          ]
        }
      ]
    },
    {
      "cell_type": "markdown",
      "source": [
        "5. **Offense Analysis**"
      ],
      "metadata": {
        "id": "Zflhm_BYeLiq"
      }
    },
    {
      "cell_type": "code",
      "source": [
        "offense_counts = theft_df['OFFENSE'].value_counts()\n",
        "\n",
        "# Plot\n",
        "offense_counts.plot(kind='bar', color='purple', figsize=(10, 6))\n",
        "plt.title('Types of Theft Offenses')\n",
        "plt.xlabel('Theft Offense')\n",
        "plt.ylabel('Count')\n",
        "plt.show()"
      ],
      "metadata": {
        "colab": {
          "base_uri": "https://localhost:8080/",
          "height": 827
        },
        "id": "NDD0vjJji0qu",
        "outputId": "515a090c-5d8a-41e7-8cd8-fb66b152bc1c"
      },
      "execution_count": 12,
      "outputs": [
        {
          "output_type": "display_data",
          "data": {
            "text/plain": [
              "<Figure size 1000x600 with 1 Axes>"
            ],
            "image/png": "[encoded data removed]"
          },
          "metadata": {}
        }
      ]
    },
    {
      "cell_type": "markdown",
      "source": [
        "6. **Additional Visualization**"
      ],
      "metadata": {
        "id": "zAUZ63RRjJiB"
      }
    },
    {
      "cell_type": "code",
      "source": [
        "# Plot age distribution\n",
        "plt.figure(figsize=(10, 6))\n",
        "sns.histplot(theft_df['AGE'], bins=20, kde=True, color='blue', edgecolor='black')\n",
        "plt.title('Age Distribution of Individuals Involved in Theft Offenses', fontsize=16)\n",
        "plt.xlabel('Age', fontsize=12)\n",
        "plt.ylabel('Frequency', fontsize=12)\n",
        "plt.grid(axis='y', linestyle='--', alpha=0.7)\n",
        "plt.show()"
      ],
      "metadata": {
        "colab": {
          "base_uri": "https://localhost:8080/",
          "height": 570
        },
        "id": "4frhEitdjVCl",
        "outputId": "43b53b23-bbe3-4bbe-bd2b-03ebaa0db5c0"
      },
      "execution_count": 14,
      "outputs": [
        {
          "output_type": "display_data",
          "data": {
            "text/plain": [
              "<Figure size 1000x600 with 1 Axes>"
            ],
            "image/png": "[encoded data removed]"
          },
          "metadata": {}
        }
      ]
    },
    {
      "cell_type": "markdown",
      "source": [
        "Most of the theft-related offenses are aged around mid-20s."
      ],
      "metadata": {
        "id": "gOVR24aJm8lI"
      }
    }
  ]
}